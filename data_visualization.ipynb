{
  "nbformat": 4,
  "nbformat_minor": 0,
  "metadata": {
    "colab": {
      "provenance": []
    },
    "kernelspec": {
      "name": "python3",
      "display_name": "Python 3"
    },
    "language_info": {
      "name": "python"
    }
  },
  "cells": [
    {
      "cell_type": "code",
      "source": [
        "import pandas as pd\n",
        "import matplotlib.pyplot as plt"
      ],
      "metadata": {
        "id": "TGv6sWGuyaW7"
      },
      "execution_count": null,
      "outputs": []
    },
    {
      "cell_type": "code",
      "source": [
        "#dictonary creation\n",
        "dict1={'Name':pd.Series(['ABC','AQW','NHY','CBY','SPO','LHG','NZR','MLG','AUF','DDX']),\n",
        "       'Maths':pd.Series([50,84,56,88,63,93,56,65,78,89]),\n",
        "       'Electronic Circuits':pd.Series([70,62,98,95,55,85,45,59,43,67]),\n",
        "       'Signals and System':pd.Series([ 64,75,45,76,56,71,75,45,76,62]),\n",
        "       'Analog Communication':pd.Series([ 43,46,61,84,84,65,46,61,84,75]),\n",
        "       'Digital Electronics':pd.Series([ 51,74,73,79,95,58,74,73,79,46])}"
      ],
      "metadata": {
        "id": "-b_YJulWyp_D"
      },
      "execution_count": null,
      "outputs": []
    },
    {
      "cell_type": "code",
      "source": [
        "type(dict1)"
      ],
      "metadata": {
        "colab": {
          "base_uri": "https://localhost:8080/"
        },
        "id": "h83QFvvk8M6S",
        "outputId": "02ec47bc-0111-428f-982e-fdaefba23893"
      },
      "execution_count": null,
      "outputs": [
        {
          "output_type": "execute_result",
          "data": {
            "text/plain": [
              "dict"
            ]
          },
          "metadata": {},
          "execution_count": 5
        }
      ]
    },
    {
      "cell_type": "code",
      "source": [
        "df1= pd.DataFrame(dict1)"
      ],
      "metadata": {
        "id": "nfyV94l88SAu"
      },
      "execution_count": null,
      "outputs": []
    },
    {
      "cell_type": "code",
      "source": [
        "display(df1)"
      ],
      "metadata": {
        "colab": {
          "base_uri": "https://localhost:8080/",
          "height": 363
        },
        "id": "BXQ0Uu2K87Sq",
        "outputId": "9f19627a-bd51-4e07-d9c2-b35e336afb22"
      },
      "execution_count": null,
      "outputs": [
        {
          "output_type": "display_data",
          "data": {
            "text/plain": [
              "  Name  Maths  Electronic Circuits  Signals and System  Analog Communication  \\\n",
              "0  ABC     50                   70                  64                    43   \n",
              "1  AQW     84                   62                  75                    46   \n",
              "2  NHY     56                   98                  45                    61   \n",
              "3  CBY     88                   95                  76                    84   \n",
              "4  SPO     63                   55                  56                    84   \n",
              "5  LHG     93                   85                  71                    65   \n",
              "6  NZR     56                   45                  75                    46   \n",
              "7  MLG     65                   59                  45                    61   \n",
              "8  AUF     78                   43                  76                    84   \n",
              "9  DDX     89                   67                  62                    75   \n",
              "\n",
              "   Digital Electronics  \n",
              "0                   51  \n",
              "1                   74  \n",
              "2                   73  \n",
              "3                   79  \n",
              "4                   95  \n",
              "5                   58  \n",
              "6                   74  \n",
              "7                   73  \n",
              "8                   79  \n",
              "9                   46  "
            ],
            "text/html": [
              "\n",
              "  <div id=\"df-d1c81c1f-3695-4307-9414-797ad183ae3b\" class=\"colab-df-container\">\n",
              "    <div>\n",
              "<style scoped>\n",
              "    .dataframe tbody tr th:only-of-type {\n",
              "        vertical-align: middle;\n",
              "    }\n",
              "\n",
              "    .dataframe tbody tr th {\n",
              "        vertical-align: top;\n",
              "    }\n",
              "\n",
              "    .dataframe thead th {\n",
              "        text-align: right;\n",
              "    }\n",
              "</style>\n",
              "<table border=\"1\" class=\"dataframe\">\n",
              "  <thead>\n",
              "    <tr style=\"text-align: right;\">\n",
              "      <th></th>\n",
              "      <th>Name</th>\n",
              "      <th>Maths</th>\n",
              "      <th>Electronic Circuits</th>\n",
              "      <th>Signals and System</th>\n",
              "      <th>Analog Communication</th>\n",
              "      <th>Digital Electronics</th>\n",
              "    </tr>\n",
              "  </thead>\n",
              "  <tbody>\n",
              "    <tr>\n",
              "      <th>0</th>\n",
              "      <td>ABC</td>\n",
              "      <td>50</td>\n",
              "      <td>70</td>\n",
              "      <td>64</td>\n",
              "      <td>43</td>\n",
              "      <td>51</td>\n",
              "    </tr>\n",
              "    <tr>\n",
              "      <th>1</th>\n",
              "      <td>AQW</td>\n",
              "      <td>84</td>\n",
              "      <td>62</td>\n",
              "      <td>75</td>\n",
              "      <td>46</td>\n",
              "      <td>74</td>\n",
              "    </tr>\n",
              "    <tr>\n",
              "      <th>2</th>\n",
              "      <td>NHY</td>\n",
              "      <td>56</td>\n",
              "      <td>98</td>\n",
              "      <td>45</td>\n",
              "      <td>61</td>\n",
              "      <td>73</td>\n",
              "    </tr>\n",
              "    <tr>\n",
              "      <th>3</th>\n",
              "      <td>CBY</td>\n",
              "      <td>88</td>\n",
              "      <td>95</td>\n",
              "      <td>76</td>\n",
              "      <td>84</td>\n",
              "      <td>79</td>\n",
              "    </tr>\n",
              "    <tr>\n",
              "      <th>4</th>\n",
              "      <td>SPO</td>\n",
              "      <td>63</td>\n",
              "      <td>55</td>\n",
              "      <td>56</td>\n",
              "      <td>84</td>\n",
              "      <td>95</td>\n",
              "    </tr>\n",
              "    <tr>\n",
              "      <th>5</th>\n",
              "      <td>LHG</td>\n",
              "      <td>93</td>\n",
              "      <td>85</td>\n",
              "      <td>71</td>\n",
              "      <td>65</td>\n",
              "      <td>58</td>\n",
              "    </tr>\n",
              "    <tr>\n",
              "      <th>6</th>\n",
              "      <td>NZR</td>\n",
              "      <td>56</td>\n",
              "      <td>45</td>\n",
              "      <td>75</td>\n",
              "      <td>46</td>\n",
              "      <td>74</td>\n",
              "    </tr>\n",
              "    <tr>\n",
              "      <th>7</th>\n",
              "      <td>MLG</td>\n",
              "      <td>65</td>\n",
              "      <td>59</td>\n",
              "      <td>45</td>\n",
              "      <td>61</td>\n",
              "      <td>73</td>\n",
              "    </tr>\n",
              "    <tr>\n",
              "      <th>8</th>\n",
              "      <td>AUF</td>\n",
              "      <td>78</td>\n",
              "      <td>43</td>\n",
              "      <td>76</td>\n",
              "      <td>84</td>\n",
              "      <td>79</td>\n",
              "    </tr>\n",
              "    <tr>\n",
              "      <th>9</th>\n",
              "      <td>DDX</td>\n",
              "      <td>89</td>\n",
              "      <td>67</td>\n",
              "      <td>62</td>\n",
              "      <td>75</td>\n",
              "      <td>46</td>\n",
              "    </tr>\n",
              "  </tbody>\n",
              "</table>\n",
              "</div>\n",
              "    <div class=\"colab-df-buttons\">\n",
              "\n",
              "  <div class=\"colab-df-container\">\n",
              "    <button class=\"colab-df-convert\" onclick=\"convertToInteractive('df-d1c81c1f-3695-4307-9414-797ad183ae3b')\"\n",
              "            title=\"Convert this dataframe to an interactive table.\"\n",
              "            style=\"display:none;\">\n",
              "\n",
              "  <svg xmlns=\"http://www.w3.org/2000/svg\" height=\"24px\" viewBox=\"0 -960 960 960\">\n",
              "    <path d=\"M120-120v-720h720v720H120Zm60-500h600v-160H180v160Zm220 220h160v-160H400v160Zm0 220h160v-160H400v160ZM180-400h160v-160H180v160Zm440 0h160v-160H620v160ZM180-180h160v-160H180v160Zm440 0h160v-160H620v160Z\"/>\n",
              "  </svg>\n",
              "    </button>\n",
              "\n",
              "  <style>\n",
              "    .colab-df-container {\n",
              "      display:flex;\n",
              "      gap: 12px;\n",
              "    }\n",
              "\n",
              "    .colab-df-convert {\n",
              "      background-color: #E8F0FE;\n",
              "      border: none;\n",
              "      border-radius: 50%;\n",
              "      cursor: pointer;\n",
              "      display: none;\n",
              "      fill: #1967D2;\n",
              "      height: 32px;\n",
              "      padding: 0 0 0 0;\n",
              "      width: 32px;\n",
              "    }\n",
              "\n",
              "    .colab-df-convert:hover {\n",
              "      background-color: #E2EBFA;\n",
              "      box-shadow: 0px 1px 2px rgba(60, 64, 67, 0.3), 0px 1px 3px 1px rgba(60, 64, 67, 0.15);\n",
              "      fill: #174EA6;\n",
              "    }\n",
              "\n",
              "    .colab-df-buttons div {\n",
              "      margin-bottom: 4px;\n",
              "    }\n",
              "\n",
              "    [theme=dark] .colab-df-convert {\n",
              "      background-color: #3B4455;\n",
              "      fill: #D2E3FC;\n",
              "    }\n",
              "\n",
              "    [theme=dark] .colab-df-convert:hover {\n",
              "      background-color: #434B5C;\n",
              "      box-shadow: 0px 1px 3px 1px rgba(0, 0, 0, 0.15);\n",
              "      filter: drop-shadow(0px 1px 2px rgba(0, 0, 0, 0.3));\n",
              "      fill: #FFFFFF;\n",
              "    }\n",
              "  </style>\n",
              "\n",
              "    <script>\n",
              "      const buttonEl =\n",
              "        document.querySelector('#df-d1c81c1f-3695-4307-9414-797ad183ae3b button.colab-df-convert');\n",
              "      buttonEl.style.display =\n",
              "        google.colab.kernel.accessAllowed ? 'block' : 'none';\n",
              "\n",
              "      async function convertToInteractive(key) {\n",
              "        const element = document.querySelector('#df-d1c81c1f-3695-4307-9414-797ad183ae3b');\n",
              "        const dataTable =\n",
              "          await google.colab.kernel.invokeFunction('convertToInteractive',\n",
              "                                                    [key], {});\n",
              "        if (!dataTable) return;\n",
              "\n",
              "        const docLinkHtml = 'Like what you see? Visit the ' +\n",
              "          '<a target=\"_blank\" href=https://colab.research.google.com/notebooks/data_table.ipynb>data table notebook</a>'\n",
              "          + ' to learn more about interactive tables.';\n",
              "        element.innerHTML = '';\n",
              "        dataTable['output_type'] = 'display_data';\n",
              "        await google.colab.output.renderOutput(dataTable, element);\n",
              "        const docLink = document.createElement('div');\n",
              "        docLink.innerHTML = docLinkHtml;\n",
              "        element.appendChild(docLink);\n",
              "      }\n",
              "    </script>\n",
              "  </div>\n",
              "\n",
              "\n",
              "<div id=\"df-73f7082a-c2fc-45a3-ba94-e73ca1d39be0\">\n",
              "  <button class=\"colab-df-quickchart\" onclick=\"quickchart('df-73f7082a-c2fc-45a3-ba94-e73ca1d39be0')\"\n",
              "            title=\"Suggest charts\"\n",
              "            style=\"display:none;\">\n",
              "\n",
              "<svg xmlns=\"http://www.w3.org/2000/svg\" height=\"24px\"viewBox=\"0 0 24 24\"\n",
              "     width=\"24px\">\n",
              "    <g>\n",
              "        <path d=\"M19 3H5c-1.1 0-2 .9-2 2v14c0 1.1.9 2 2 2h14c1.1 0 2-.9 2-2V5c0-1.1-.9-2-2-2zM9 17H7v-7h2v7zm4 0h-2V7h2v10zm4 0h-2v-4h2v4z\"/>\n",
              "    </g>\n",
              "</svg>\n",
              "  </button>\n",
              "\n",
              "<style>\n",
              "  .colab-df-quickchart {\n",
              "      --bg-color: #E8F0FE;\n",
              "      --fill-color: #1967D2;\n",
              "      --hover-bg-color: #E2EBFA;\n",
              "      --hover-fill-color: #174EA6;\n",
              "      --disabled-fill-color: #AAA;\n",
              "      --disabled-bg-color: #DDD;\n",
              "  }\n",
              "\n",
              "  [theme=dark] .colab-df-quickchart {\n",
              "      --bg-color: #3B4455;\n",
              "      --fill-color: #D2E3FC;\n",
              "      --hover-bg-color: #434B5C;\n",
              "      --hover-fill-color: #FFFFFF;\n",
              "      --disabled-bg-color: #3B4455;\n",
              "      --disabled-fill-color: #666;\n",
              "  }\n",
              "\n",
              "  .colab-df-quickchart {\n",
              "    background-color: var(--bg-color);\n",
              "    border: none;\n",
              "    border-radius: 50%;\n",
              "    cursor: pointer;\n",
              "    display: none;\n",
              "    fill: var(--fill-color);\n",
              "    height: 32px;\n",
              "    padding: 0;\n",
              "    width: 32px;\n",
              "  }\n",
              "\n",
              "  .colab-df-quickchart:hover {\n",
              "    background-color: var(--hover-bg-color);\n",
              "    box-shadow: 0 1px 2px rgba(60, 64, 67, 0.3), 0 1px 3px 1px rgba(60, 64, 67, 0.15);\n",
              "    fill: var(--button-hover-fill-color);\n",
              "  }\n",
              "\n",
              "  .colab-df-quickchart-complete:disabled,\n",
              "  .colab-df-quickchart-complete:disabled:hover {\n",
              "    background-color: var(--disabled-bg-color);\n",
              "    fill: var(--disabled-fill-color);\n",
              "    box-shadow: none;\n",
              "  }\n",
              "\n",
              "  .colab-df-spinner {\n",
              "    border: 2px solid var(--fill-color);\n",
              "    border-color: transparent;\n",
              "    border-bottom-color: var(--fill-color);\n",
              "    animation:\n",
              "      spin 1s steps(1) infinite;\n",
              "  }\n",
              "\n",
              "  @keyframes spin {\n",
              "    0% {\n",
              "      border-color: transparent;\n",
              "      border-bottom-color: var(--fill-color);\n",
              "      border-left-color: var(--fill-color);\n",
              "    }\n",
              "    20% {\n",
              "      border-color: transparent;\n",
              "      border-left-color: var(--fill-color);\n",
              "      border-top-color: var(--fill-color);\n",
              "    }\n",
              "    30% {\n",
              "      border-color: transparent;\n",
              "      border-left-color: var(--fill-color);\n",
              "      border-top-color: var(--fill-color);\n",
              "      border-right-color: var(--fill-color);\n",
              "    }\n",
              "    40% {\n",
              "      border-color: transparent;\n",
              "      border-right-color: var(--fill-color);\n",
              "      border-top-color: var(--fill-color);\n",
              "    }\n",
              "    60% {\n",
              "      border-color: transparent;\n",
              "      border-right-color: var(--fill-color);\n",
              "    }\n",
              "    80% {\n",
              "      border-color: transparent;\n",
              "      border-right-color: var(--fill-color);\n",
              "      border-bottom-color: var(--fill-color);\n",
              "    }\n",
              "    90% {\n",
              "      border-color: transparent;\n",
              "      border-bottom-color: var(--fill-color);\n",
              "    }\n",
              "  }\n",
              "</style>\n",
              "\n",
              "  <script>\n",
              "    async function quickchart(key) {\n",
              "      const quickchartButtonEl =\n",
              "        document.querySelector('#' + key + ' button');\n",
              "      quickchartButtonEl.disabled = true;  // To prevent multiple clicks.\n",
              "      quickchartButtonEl.classList.add('colab-df-spinner');\n",
              "      try {\n",
              "        const charts = await google.colab.kernel.invokeFunction(\n",
              "            'suggestCharts', [key], {});\n",
              "      } catch (error) {\n",
              "        console.error('Error during call to suggestCharts:', error);\n",
              "      }\n",
              "      quickchartButtonEl.classList.remove('colab-df-spinner');\n",
              "      quickchartButtonEl.classList.add('colab-df-quickchart-complete');\n",
              "    }\n",
              "    (() => {\n",
              "      let quickchartButtonEl =\n",
              "        document.querySelector('#df-73f7082a-c2fc-45a3-ba94-e73ca1d39be0 button');\n",
              "      quickchartButtonEl.style.display =\n",
              "        google.colab.kernel.accessAllowed ? 'block' : 'none';\n",
              "    })();\n",
              "  </script>\n",
              "</div>\n",
              "    </div>\n",
              "  </div>\n"
            ]
          },
          "metadata": {}
        }
      ]
    },
    {
      "cell_type": "code",
      "source": [
        "plt.scatter(df1['Maths'],df1['Analog Communication'])\n",
        "plt.title('scatter plot')\n",
        "plt.xlabel('Value')\n",
        "plt.ylabel('freq')\n",
        "plt.show()"
      ],
      "metadata": {
        "colab": {
          "base_uri": "https://localhost:8080/",
          "height": 472
        },
        "id": "LWk7VOd48_Sx",
        "outputId": "f0d17691-9973-4af5-df01-4a25a12daa9e"
      },
      "execution_count": null,
      "outputs": [
        {
          "output_type": "display_data",
          "data": {
            "text/plain": [
              "<Figure size 640x480 with 1 Axes>"
            ],
            "image/png": "[encoded data removed]"
          },
          "metadata": {}
        }
      ]
    },
    {
      "cell_type": "code",
      "source": [
        "plt.bar(df1['Maths'],df1['Analog Communication'])\n",
        "plt.title('scatter plot')\n",
        "plt.xlabel('Value')\n",
        "plt.ylabel('freq')\n",
        "plt.show()"
      ],
      "metadata": {
        "colab": {
          "base_uri": "https://localhost:8080/",
          "height": 472
        },
        "id": "hc8py6LF9ou8",
        "outputId": "ca780a35-303d-4510-9aae-b5ca69c0f979"
      },
      "execution_count": null,
      "outputs": [
        {
          "output_type": "display_data",
          "data": {
            "text/plain": [
              "<Figure size 640x480 with 1 Axes>"
            ],
            "image/png": "[encoded data removed]"
          },
          "metadata": {}
        }
      ]
    },
    {
      "cell_type": "code",
      "source": [
        "plt.plot(df1['Maths'],df1['Analog Communication'])\n",
        "plt.title('scatter plot')\n",
        "plt.xlabel('Value')\n",
        "plt.ylabel('freq')\n",
        "plt.show()"
      ],
      "metadata": {
        "colab": {
          "base_uri": "https://localhost:8080/",
          "height": 472
        },
        "id": "o8dfoKNs9w_P",
        "outputId": "b438bd42-2cf0-45d5-b0c8-73d49dbfe70c"
      },
      "execution_count": null,
      "outputs": [
        {
          "output_type": "display_data",
          "data": {
            "text/plain": [
              "<Figure size 640x480 with 1 Axes>"
            ],
            "image/png": "[encoded data removed]"
          },
          "metadata": {}
        }
      ]
    },
    {
      "cell_type": "code",
      "source": [
        "print(df1.describe())"
      ],
      "metadata": {
        "colab": {
          "base_uri": "https://localhost:8080/"
        },
        "id": "F16PY_ap-URu",
        "outputId": "2c8dc966-e2f4-43a6-ec02-0e7bb7342d9f"
      },
      "execution_count": null,
      "outputs": [
        {
          "output_type": "stream",
          "name": "stdout",
          "text": [
            "           Maths  Electronic Circuits  Signals and System  \\\n",
            "count  10.000000            10.000000           10.000000   \n",
            "mean   72.200000            67.900000           64.500000   \n",
            "std    15.956886            19.330172           12.322067   \n",
            "min    50.000000            43.000000           45.000000   \n",
            "25%    57.750000            56.000000           57.500000   \n",
            "50%    71.500000            64.500000           67.500000   \n",
            "75%    87.000000            81.250000           75.000000   \n",
            "max    93.000000            98.000000           76.000000   \n",
            "\n",
            "       Analog Communication  Digital Electronics  \n",
            "count             10.000000            10.000000  \n",
            "mean              64.900000            70.200000  \n",
            "std               16.400881            14.596803  \n",
            "min               43.000000            46.000000  \n",
            "25%               49.750000            61.750000  \n",
            "50%               63.000000            73.500000  \n",
            "75%               81.750000            77.750000  \n",
            "max               84.000000            95.000000  \n"
          ]
        }
      ]
    },
    {
      "cell_type": "code",
      "source": [
        "print(df1.describe(include='all'))"
      ],
      "metadata": {
        "colab": {
          "base_uri": "https://localhost:8080/"
        },
        "id": "8ZRD68kc-0Tu",
        "outputId": "9380aa29-d4fe-4ae4-eb60-ed4ddbba8eb5"
      },
      "execution_count": null,
      "outputs": [
        {
          "output_type": "stream",
          "name": "stdout",
          "text": [
            "       Name      Maths  Electronic Circuits  Signals and System  \\\n",
            "count    10  10.000000            10.000000           10.000000   \n",
            "unique   10        NaN                  NaN                 NaN   \n",
            "top     ABC        NaN                  NaN                 NaN   \n",
            "freq      1        NaN                  NaN                 NaN   \n",
            "mean    NaN  72.200000            67.900000           64.500000   \n",
            "std     NaN  15.956886            19.330172           12.322067   \n",
            "min     NaN  50.000000            43.000000           45.000000   \n",
            "25%     NaN  57.750000            56.000000           57.500000   \n",
            "50%     NaN  71.500000            64.500000           67.500000   \n",
            "75%     NaN  87.000000            81.250000           75.000000   \n",
            "max     NaN  93.000000            98.000000           76.000000   \n",
            "\n",
            "        Analog Communication  Digital Electronics  \n",
            "count              10.000000            10.000000  \n",
            "unique                   NaN                  NaN  \n",
            "top                      NaN                  NaN  \n",
            "freq                     NaN                  NaN  \n",
            "mean               64.900000            70.200000  \n",
            "std                16.400881            14.596803  \n",
            "min                43.000000            46.000000  \n",
            "25%                49.750000            61.750000  \n",
            "50%                63.000000            73.500000  \n",
            "75%                81.750000            77.750000  \n",
            "max                84.000000            95.000000  \n"
          ]
        }
      ]
    },
    {
      "cell_type": "code",
      "source": [
        "df1.mean()"
      ],
      "metadata": {
        "colab": {
          "base_uri": "https://localhost:8080/"
        },
        "id": "M9O2L08i--M5",
        "outputId": "2130fbb4-3237-4389-b806-61d498c9912f"
      },
      "execution_count": null,
      "outputs": [
        {
          "output_type": "stream",
          "name": "stderr",
          "text": [
            "<ipython-input-19-00fb6bfec183>:1: FutureWarning: The default value of numeric_only in DataFrame.mean is deprecated. In a future version, it will default to False. In addition, specifying 'numeric_only=None' is deprecated. Select only valid columns or specify the value of numeric_only to silence this warning.\n",
            "  df1.mean()\n"
          ]
        },
        {
          "output_type": "execute_result",
          "data": {
            "text/plain": [
              "Maths                   72.2\n",
              "Electronic Circuits     67.9\n",
              "Signals and System      64.5\n",
              "Analog Communication    64.9\n",
              "Digital Electronics     70.2\n",
              "dtype: float64"
            ]
          },
          "metadata": {},
          "execution_count": 19
        }
      ]
    },
    {
      "cell_type": "code",
      "source": [
        "df1.mean(axis=0)"
      ],
      "metadata": {
        "colab": {
          "base_uri": "https://localhost:8080/"
        },
        "id": "d0bvF8J3_Eys",
        "outputId": "d0523439-b965-425b-8d74-eb39164416c6"
      },
      "execution_count": null,
      "outputs": [
        {
          "output_type": "stream",
          "name": "stderr",
          "text": [
            "<ipython-input-21-a4ef8a51c546>:1: FutureWarning: The default value of numeric_only in DataFrame.mean is deprecated. In a future version, it will default to False. In addition, specifying 'numeric_only=None' is deprecated. Select only valid columns or specify the value of numeric_only to silence this warning.\n",
            "  df1.mean(axis=0)\n"
          ]
        },
        {
          "output_type": "execute_result",
          "data": {
            "text/plain": [
              "Maths                   72.2\n",
              "Electronic Circuits     67.9\n",
              "Signals and System      64.5\n",
              "Analog Communication    64.9\n",
              "Digital Electronics     70.2\n",
              "dtype: float64"
            ]
          },
          "metadata": {},
          "execution_count": 21
        }
      ]
    },
    {
      "cell_type": "code",
      "source": [
        "df1.mean(axis=1)"
      ],
      "metadata": {
        "colab": {
          "base_uri": "https://localhost:8080/"
        },
        "id": "-bbikg3j_KCf",
        "outputId": "fd80e888-6590-4fdd-ba04-3c1b39d007dd"
      },
      "execution_count": null,
      "outputs": [
        {
          "output_type": "stream",
          "name": "stderr",
          "text": [
            "<ipython-input-22-9fac0515920f>:1: FutureWarning: Dropping of nuisance columns in DataFrame reductions (with 'numeric_only=None') is deprecated; in a future version this will raise TypeError.  Select only valid columns before calling the reduction.\n",
            "  df1.mean(axis=1)\n"
          ]
        },
        {
          "output_type": "execute_result",
          "data": {
            "text/plain": [
              "0    55.6\n",
              "1    68.2\n",
              "2    66.6\n",
              "3    84.4\n",
              "4    70.6\n",
              "5    74.4\n",
              "6    59.2\n",
              "7    60.6\n",
              "8    72.0\n",
              "9    67.8\n",
              "dtype: float64"
            ]
          },
          "metadata": {},
          "execution_count": 22
        }
      ]
    },
    {
      "cell_type": "code",
      "source": [
        "df1.loc[:,\"Maths\"].mean()"
      ],
      "metadata": {
        "colab": {
          "base_uri": "https://localhost:8080/"
        },
        "id": "nNhSU_x-_YVU",
        "outputId": "23b2db30-4b83-41ff-e9e8-bc4d238470c4"
      },
      "execution_count": null,
      "outputs": [
        {
          "output_type": "execute_result",
          "data": {
            "text/plain": [
              "72.2"
            ]
          },
          "metadata": {},
          "execution_count": 24
        }
      ]
    },
    {
      "cell_type": "code",
      "source": [
        "from scipy import stats\n"
      ],
      "metadata": {
        "id": "2gsblVYzAPwY"
      },
      "execution_count": null,
      "outputs": []
    },
    {
      "cell_type": "code",
      "source": [
        "stats.hmean(df1.iloc[:,1:3],axis=0)"
      ],
      "metadata": {
        "colab": {
          "base_uri": "https://localhost:8080/"
        },
        "id": "D3Q9jM4oAaYz",
        "outputId": "e2bcf2a6-c72a-40e4-f9c8-1361cab2dfed"
      },
      "execution_count": null,
      "outputs": [
        {
          "output_type": "execute_result",
          "data": {
            "text/plain": [
              "array([68.94199552, 63.11368996])"
            ]
          },
          "metadata": {},
          "execution_count": 29
        }
      ]
    },
    {
      "cell_type": "code",
      "source": [
        "import numpy as np"
      ],
      "metadata": {
        "id": "TLDq6t2jA6Wq"
      },
      "execution_count": null,
      "outputs": []
    },
    {
      "cell_type": "code",
      "source": [
        "df1.std()"
      ],
      "metadata": {
        "colab": {
          "base_uri": "https://localhost:8080/"
        },
        "id": "7skJpEBVA_MV",
        "outputId": "d20b4f18-b2cf-4f42-db83-adda15122abf"
      },
      "execution_count": null,
      "outputs": [
        {
          "output_type": "stream",
          "name": "stderr",
          "text": [
            "<ipython-input-31-1c22e8bf5753>:1: FutureWarning: The default value of numeric_only in DataFrame.std is deprecated. In a future version, it will default to False. In addition, specifying 'numeric_only=None' is deprecated. Select only valid columns or specify the value of numeric_only to silence this warning.\n",
            "  df1.std()\n"
          ]
        },
        {
          "output_type": "execute_result",
          "data": {
            "text/plain": [
              "Maths                   15.956886\n",
              "Electronic Circuits     19.330172\n",
              "Signals and System      12.322067\n",
              "Analog Communication    16.400881\n",
              "Digital Electronics     14.596803\n",
              "dtype: float64"
            ]
          },
          "metadata": {},
          "execution_count": 31
        }
      ]
    },
    {
      "cell_type": "code",
      "source": [
        "df1.std(axis=0)"
      ],
      "metadata": {
        "colab": {
          "base_uri": "https://localhost:8080/"
        },
        "id": "un18ua57BGY7",
        "outputId": "869fdc55-4605-45a7-e1e4-e59ab5b1086d"
      },
      "execution_count": null,
      "outputs": [
        {
          "output_type": "stream",
          "name": "stderr",
          "text": [
            "<ipython-input-32-c1e05883c8ef>:1: FutureWarning: The default value of numeric_only in DataFrame.std is deprecated. In a future version, it will default to False. In addition, specifying 'numeric_only=None' is deprecated. Select only valid columns or specify the value of numeric_only to silence this warning.\n",
            "  df1.std(axis=0)\n"
          ]
        },
        {
          "output_type": "execute_result",
          "data": {
            "text/plain": [
              "Maths                   15.956886\n",
              "Electronic Circuits     19.330172\n",
              "Signals and System      12.322067\n",
              "Analog Communication    16.400881\n",
              "Digital Electronics     14.596803\n",
              "dtype: float64"
            ]
          },
          "metadata": {},
          "execution_count": 32
        }
      ]
    },
    {
      "cell_type": "code",
      "source": [
        "df1.loc[:,\"Maths\"].std()"
      ],
      "metadata": {
        "colab": {
          "base_uri": "https://localhost:8080/"
        },
        "id": "CUpwO1zTBVDd",
        "outputId": "52b0c246-8c42-4e77-b219-9b074dbf9ddf"
      },
      "execution_count": null,
      "outputs": [
        {
          "output_type": "execute_result",
          "data": {
            "text/plain": [
              "15.95688635737631"
            ]
          },
          "metadata": {},
          "execution_count": 34
        }
      ]
    }
  ]
}